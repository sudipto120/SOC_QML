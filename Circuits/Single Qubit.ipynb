{
 "cells": [
  {
   "cell_type": "code",
   "execution_count": 2,
   "id": "d15e96e7",
   "metadata": {},
   "outputs": [
    {
     "name": "stdout",
     "output_type": "stream",
     "text": [
      "2.0.3\n"
     ]
    }
   ],
   "source": [
    "from qiskit import __version__\n",
    "print(__version__)"
   ]
  },
  {
   "cell_type": "code",
   "execution_count": 3,
   "id": "274ab751",
   "metadata": {},
   "outputs": [
    {
     "name": "stdout",
     "output_type": "stream",
     "text": [
      "ket0: [[1]\n",
      " [0]]\n",
      "ket1: [[0]\n",
      " [1]]\n",
      "ket_plus: [[0.70710678]\n",
      " [0.70710678]]\n",
      "ket_minus: [[ 0.70710678]\n",
      " [-0.70710678]]\n"
     ]
    }
   ],
   "source": [
    "import numpy as np\n",
    "# Define the ket vectors\n",
    "\n",
    "# ket0 represents |0>\n",
    "ket0 = np.array([[1],[0]])\n",
    "print(\"ket0:\", ket0)\n",
    "# ket1 represents |1>\n",
    "ket1 = np.array([[0],[1]])\n",
    "print(\"ket1:\", ket1)\n",
    "\n",
    "# ket_plus represents |+>\n",
    "ket_plus = (ket0 + ket1) / np.sqrt(2)\n",
    "print(\"ket_plus:\", ket_plus)\n",
    "# ket_minus represents |->\n",
    "ket_minus = (ket0 - ket1) / np.sqrt(2)\n",
    "print(\"ket_minus:\", ket_minus)\n"
   ]
  },
  {
   "cell_type": "code",
   "execution_count": 4,
   "id": "98bd9536",
   "metadata": {},
   "outputs": [
    {
     "name": "stdout",
     "output_type": "stream",
     "text": [
      "Identity gate I: [[1 0]\n",
      " [0 1]]\n",
      "NOT gate: [[0 1]\n",
      " [1 0]]\n",
      "Hadamard gate H: [[ 0.70710678  0.70710678]\n",
      " [ 0.70710678 -0.70710678]]\n",
      "Pauli-X gate X: [[0 1]\n",
      " [1 0]]\n",
      "Pauli-Y gate Y: [[ 0.+0.j -0.-1.j]\n",
      " [ 0.+1.j  0.+0.j]]\n",
      "Pauli-Z gate Z: [[ 1  0]\n",
      " [ 0 -1]]\n",
      "Phase gate S: [[1.+0.j 0.+0.j]\n",
      " [0.+0.j 0.+1.j]]\n",
      "T gate: [[1.        +0.j         0.        +0.j        ]\n",
      " [0.        +0.j         0.70710678+0.70710678j]]\n"
     ]
    }
   ],
   "source": [
    "# Any Quantum Gate can be represented as a Unitary matrix.\n",
    "\n",
    "# Identity gate:\n",
    "I = np.array([[1, 0], [0, 1]])\n",
    "print(\"Identity gate I:\", I)\n",
    "\n",
    "# NOT gate:\n",
    "NOT = np.array([[0, 1], [1, 0]])\n",
    "print(\"NOT gate:\", NOT)\n",
    "\n",
    "# Hadamard gate:\n",
    "H = np.array([[1, 1], [1, -1]]) / np.sqrt(2)\n",
    "print(\"Hadamard gate H:\", H)\n",
    "\n",
    "# The Pauli gates are represented by the following matrices:\n",
    "\n",
    "# Pauli-X gate:\n",
    "X = np.array([[0, 1], [1, 0]])\n",
    "print(\"Pauli-X gate X:\", X)\n",
    "\n",
    "# Pauli-Y gate:\n",
    "Y = np.array([[0, -1j], [1j, 0]])\n",
    "print(\"Pauli-Y gate Y:\", Y)\n",
    "\n",
    "# Pauli-Z gate:\n",
    "Z = np.array([[1, 0], [0, -1]])\n",
    "print(\"Pauli-Z gate Z:\", Z)\n",
    "\n",
    "# Phase gate:\n",
    "S = np.array([[1, 0], [0, 1j]])\n",
    "print(\"Phase gate S:\", S)\n",
    "\n",
    "# T gate:\n",
    "T = np.array([[1, 0], [0, np.exp(1j *np.pi / 4)]])\n",
    "print(\"T gate:\", T)\n"
   ]
  },
  {
   "cell_type": "code",
   "execution_count": 5,
   "id": "df9f15f5",
   "metadata": {},
   "outputs": [
    {
     "name": "stdout",
     "output_type": "stream",
     "text": [
      "Applying Hadamard gate to |0>: [[0.70710678]\n",
      " [0.70710678]]\n"
     ]
    },
    {
     "data": {
      "text/latex": [
       "$$\n",
       "H|0> = \n",
       "\\begin{bmatrix}\n",
       "\\frac{\\sqrt{2}}{2}  \\\\\n",
       " \\frac{\\sqrt{2}}{2}  \\\\\n",
       " \\end{bmatrix}\n",
       "$$"
      ],
      "text/plain": [
       "<IPython.core.display.Latex object>"
      ]
     },
     "metadata": {},
     "output_type": "display_data"
    }
   ],
   "source": [
    "# Applying a gate to a ket vector is done by matrix multiplication.\n",
    "def apply_gate(gate, ket):\n",
    "    return np.dot(gate, ket)\n",
    "\n",
    "# Example: Applying the Hadamard gate to the |0> ket vector\n",
    "result = apply_gate(H, ket0)\n",
    "print(\"Applying Hadamard gate to |0>:\", result)\n",
    "\n",
    "# For better readability, we use array_to_latex method\n",
    "from qiskit.visualization import array_to_latex\n",
    "display(array_to_latex(result, prefix=\"H|0> = \"))"
   ]
  },
  {
   "cell_type": "code",
   "execution_count": null,
   "id": "a81070f4",
   "metadata": {},
   "outputs": [
    {
     "data": {
      "text/plain": [
       "[0.70710678+0.j,0.70710678+0.j]"
      ]
     },
     "metadata": {},
     "output_type": "display_data"
    },
    {
     "data": {
      "text/latex": [
       "$$\\frac{\\sqrt{2}}{2} |0\\rangle+\\frac{\\sqrt{2}}{2} |1\\rangle$$"
      ],
      "text/plain": [
       "<IPython.core.display.Latex object>"
      ]
     },
     "metadata": {},
     "output_type": "display_data"
    },
    {
     "name": "stdout",
     "output_type": "stream",
     "text": [
      "\\frac{\\sqrt{2}}{2} |0\\rangle+\\frac{\\sqrt{2}}{2} |1\\rangle\n"
     ]
    },
    {
     "data": {
      "text/plain": [
       "True"
      ]
     },
     "metadata": {},
     "output_type": "display_data"
    }
   ],
   "source": [
    "# Use Qiskit libraries to visualize the state vector and gates\n",
    "from qiskit.quantum_info import Statevector\n",
    "from numpy import sqrt\n",
    "\n",
    "u = Statevector(ket0/sqrt(2) + ket1/sqrt(2))\n",
    "\n",
    "# Display Methods\n",
    "display(u.draw(\"text\"))\n",
    "display(u.draw(\"latex\"))\n",
    "print(u.draw(\"latex_source\"))\n",
    "\n",
    "# Check Validity of the state vector\n",
    "display(u.is_valid())\n",
    "\n",
    "# Measure the state vector\n",
    "result, state = u.measure()\n",
    "print(f\"Measured: {result}\\nPost-measurement state:\")\n",
    "display(state.draw(\"latex\"))\n"
   ]
  }
 ],
 "metadata": {
  "kernelspec": {
   "display_name": ".venv",
   "language": "python",
   "name": "python3"
  },
  "language_info": {
   "codemirror_mode": {
    "name": "ipython",
    "version": 3
   },
   "file_extension": ".py",
   "mimetype": "text/x-python",
   "name": "python",
   "nbconvert_exporter": "python",
   "pygments_lexer": "ipython3",
   "version": "3.13.5"
  }
 },
 "nbformat": 4,
 "nbformat_minor": 5
}
