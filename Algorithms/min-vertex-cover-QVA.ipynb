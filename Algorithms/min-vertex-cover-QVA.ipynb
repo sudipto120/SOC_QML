{
 "cells": [
  {
   "cell_type": "code",
   "execution_count": 91,
   "id": "1a2b1267",
   "metadata": {},
   "outputs": [
    {
     "data": {
      "image/png": "[encoded data removed]",
      "text/plain": [
       "<Figure size 640x480 with 1 Axes>"
      ]
     },
     "metadata": {},
     "output_type": "display_data"
    }
   ],
   "source": [
    "import networkx as nx\n",
    "import matplotlib.pyplot as plt\n",
    "\n",
    "# Number of nodes\n",
    "n = 5\n",
    "# Create a graph and add nodes and edges\n",
    "G = nx.Graph()\n",
    "G.add_nodes_from(range(n))\n",
    "edges = [(0, 1),(1, 2),(1, 3),(3, 4)]\n",
    "G.add_edges_from(edges)\n",
    "\n",
    "# Draw the graph using shell layout\n",
    "pos = nx.shell_layout(G)\n",
    "\n",
    "nx.draw(G, pos,with_labels=True,\n",
    "    node_color=\"#1192E8\",\n",
    "    edge_color=\"#333333\",\n",
    "    font_color=\"white\"\n",
    ")\n",
    "\n",
    "plt.show()"
   ]
  },
  {
   "cell_type": "code",
   "execution_count": 92,
   "id": "86daaea7",
   "metadata": {},
   "outputs": [],
   "source": [
    "from qiskit.quantum_info import SparsePauliOp\n",
    "\n",
    "def min_vertex_cover_hamiltonian(graph, penalty=10):\n",
    "    \"\"\"\"\"Constructs the Hamiltonian for the minimum vertex cover problem on a given graph.\"\"\"\n",
    "    #Cost function -> F(G) = sum_i x_i - penalty * sum_{(i,j) in E} (1 - x_i)(1 - x_j)\n",
    "    # Use QUBO formulation:\n",
    "    # x_i = (1 - Z_i)/2, where Z_i is the Pauli Z operator on qubit i.\n",
    "    # The minimum eigenvalue of the Hamiltonian will give the minimum vertex cover.\n",
    "\n",
    "    n = graph.number_of_nodes()\n",
    "    pauli_terms = {}\n",
    "    \n",
    "    # sum_i x_i\n",
    "    for i in range(n):\n",
    "        # x_i = (1 - Z_i)/2\n",
    "        pauli_terms[\"I\"*i + \"Z\" + \"I\"*(n-i-1)] = pauli_terms.get(\"I\"*i + \"Z\" + \"I\"*(n-i-1), 0) - 0.5\n",
    "        pauli_terms[\"I\"*n] = pauli_terms.get(\"I\"*n, 0) + 0.5\n",
    "\n",
    "    # For each edge E(i, j): penalty * sum_{(i,j) in E} (1 - x_i)(1 - x_j)\n",
    "    for (i, j) in graph.edges():\n",
    "        # 1\n",
    "        pauli_terms[\"I\"*n] = pauli_terms.get(\"I\"*n, 0) + penalty * 1\n",
    "        # -x_i\n",
    "        pauli_terms[\"I\"*i + \"Z\" + \"I\"*(n-i-1)] = pauli_terms.get(\"I\"*i + \"Z\" + \"I\"*(n-i-1), 0) + penalty * 0.5\n",
    "        pauli_terms[\"I\"*n] = pauli_terms.get(\"I\"*n, 0) - penalty * 0.5\n",
    "        # -x_j\n",
    "        pauli_terms[\"I\"*j + \"Z\" + \"I\"*(n-j-1)] = pauli_terms.get(\"I\"*j + \"Z\" + \"I\"*(n-j-1), 0) + penalty * 0.5\n",
    "        pauli_terms[\"I\"*n] = pauli_terms.get(\"I\"*n, 0) - penalty * 0.5\n",
    "        # +x_i x_j\n",
    "        key = \"\"\n",
    "        for k in range(n):\n",
    "            if k == i or k == j:\n",
    "                key += \"Z\"\n",
    "            else:\n",
    "                key += \"I\"\n",
    "        pauli_terms[key] = pauli_terms.get(key, 0) + penalty * 0.25\n",
    "        pauli_terms[\"I\"*i + \"Z\" + \"I\"*(n-i-1)] = pauli_terms.get(\"I\"*i + \"Z\" + \"I\"*(n-i-1), 0) - penalty * 0.25\n",
    "        pauli_terms[\"I\"*j + \"Z\" + \"I\"*(n-j-1)] = pauli_terms.get(\"I\"*j + \"Z\" + \"I\"*(n-j-1), 0) - penalty * 0.25\n",
    "        pauli_terms[\"I\"*n] = pauli_terms.get(\"I\"*n, 0) + penalty * 0.25\n",
    "\n",
    "    # Conversion to list for SparsePauliOp\n",
    "    pauli_list = [(k, v) for k, v in pauli_terms.items() if abs(v) > 1e-8]\n",
    "    return SparsePauliOp.from_list(pauli_list)"
   ]
  },
  {
   "cell_type": "code",
   "execution_count": 93,
   "id": "ce7ee525",
   "metadata": {},
   "outputs": [
    {
     "name": "stdout",
     "output_type": "stream",
     "text": [
      "SparsePauliOp(['ZIIII', 'IIIII', 'IZIII', 'IIZII', 'IIIZI', 'IIIIZ', 'ZZIII', 'IZZII', 'IZIZI', 'IIIZZ'],\n",
      "              coeffs=[ 2. +0.j, 12.5+0.j,  7. +0.j,  2. +0.j,  4.5+0.j,  2. +0.j,  2.5+0.j,\n",
      "  2.5+0.j,  2.5+0.j,  2.5+0.j])\n"
     ]
    }
   ],
   "source": [
    "from qiskit.circuit.library import QAOAAnsatz\n",
    "\n",
    "\n",
    "hamiltonian = min_vertex_cover_hamiltonian(G, penalty=10)\n",
    "print(hamiltonian)\n",
    "\n",
    "# QAOA ansatz circuit\n",
    "ansatz = QAOAAnsatz(hamiltonian, reps=10)\n",
    "\n",
    "#ansatz.decompose(reps=3).draw(\"mpl\")"
   ]
  },
  {
   "cell_type": "code",
   "execution_count": 94,
   "id": "5449540b",
   "metadata": {},
   "outputs": [],
   "source": [
    "from qiskit.primitives import StatevectorEstimator as Estimator\n",
    "from qiskit.primitives import StatevectorSampler as Sampler\n",
    "# Using local backend for simulation\n",
    "estimator = Estimator()\n",
    "sampler = Sampler()"
   ]
  },
  {
   "cell_type": "code",
   "execution_count": 95,
   "id": "49224b38",
   "metadata": {},
   "outputs": [
    {
     "name": "stdout",
     "output_type": "stream",
     "text": [
      "[2.73394441 1.73473027 4.57993417 4.8330293  1.18167142 1.75452478\n",
      " 5.86595074 4.24786094 3.08851653 0.08095336 2.96736627 5.87420084\n",
      " 1.9459385  1.85286835 3.89388182 3.90110939 3.89704422 1.06945535\n",
      " 6.03109345 1.97454809]\n"
     ]
    }
   ],
   "source": [
    "import numpy as np\n",
    "# Generate random initial parameters for the ansatz\n",
    "x0 = np.random.uniform(0,2*np.pi, ansatz.num_parameters)\n",
    "print(x0)"
   ]
  },
  {
   "cell_type": "code",
   "execution_count": 96,
   "id": "68f3a59c",
   "metadata": {},
   "outputs": [],
   "source": [
    "def cost_func_vqe(params, ansatz, hamiltonian, estimator):\n",
    "    \"\"\"Return estimate of energy from estimator\"\"\"\n",
    "    pub = (ansatz, hamiltonian, params)\n",
    "    cost = estimator.run([pub]).result()[0].data.evs\n",
    "\n",
    "    return cost"
   ]
  },
  {
   "cell_type": "code",
   "execution_count": null,
   "id": "0a9d66a9",
   "metadata": {},
   "outputs": [],
   "source": [
    "from scipy.optimize import minimize\n",
    "\n",
    "# Uncomment the following line to use COBYLA method\n",
    "#result = minimize(cost_func_vqe, x0, args=(ansatz, hamiltonian, estimator), method=\"COBYLA\", options={'maxiter': 1000, 'disp': True})\n",
    "\n",
    "#Using gradient approximation with L-BFGS-B\n",
    "result = minimize(cost_func_vqe, x0, \n",
    "    args=(ansatz, hamiltonian, estimator), \n",
    "    method=\"L-BFGS-B\",\n",
    "    jac=\"2-point\",  \n",
    "    options={'maxiter': 1000, 'gtol': 1e-2}\n",
    ")"
   ]
  },
  {
   "cell_type": "code",
   "execution_count": 98,
   "id": "e7927a1b",
   "metadata": {},
   "outputs": [
    {
     "data": {
      "text/plain": [
       "  message: CONVERGENCE: NORM OF PROJECTED GRADIENT <= PGTOL\n",
       "  success: True\n",
       "   status: 0\n",
       "      fun: 2.00041556876559\n",
       "        x: [ 3.654e+00  1.564e+00 ...  5.866e+00  1.816e+00]\n",
       "      nit: 453\n",
       "      jac: [ 3.505e-03 -1.281e-03 ...  1.098e-04  7.947e-04]\n",
       "     nfev: 10626\n",
       "     njev: 506\n",
       " hess_inv: <20x20 LbfgsInvHessProduct with dtype=float64>"
      ]
     },
     "execution_count": 98,
     "metadata": {},
     "output_type": "execute_result"
    }
   ],
   "source": [
    "result"
   ]
  },
  {
   "cell_type": "code",
   "execution_count": 99,
   "id": "431e0f4f",
   "metadata": {},
   "outputs": [
    {
     "name": "stdout",
     "output_type": "stream",
     "text": [
      "2.0\n",
      "Percent error: 0.020778438279500655\n"
     ]
    }
   ],
   "source": [
    "from numpy.linalg import eigvalsh\n",
    "\n",
    "# Error calculation\n",
    "solution_eigenvalue = min(eigvalsh(hamiltonian.to_matrix()))\n",
    "print(solution_eigenvalue)\n",
    "\n",
    "print(\n",
    "    f\"Percent error: {abs((result.fun - solution_eigenvalue)/solution_eigenvalue)*100}\"\n",
    ")"
   ]
  }
 ],
 "metadata": {
  "kernelspec": {
   "display_name": ".venv",
   "language": "python",
   "name": "python3"
  },
  "language_info": {
   "codemirror_mode": {
    "name": "ipython",
    "version": 3
   },
   "file_extension": ".py",
   "mimetype": "text/x-python",
   "name": "python",
   "nbconvert_exporter": "python",
   "pygments_lexer": "ipython3",
   "version": "3.13.5"
  }
 },
 "nbformat": 4,
 "nbformat_minor": 5
}
