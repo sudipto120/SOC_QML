{
 "cells": [
  {
   "cell_type": "code",
   "execution_count": 4,
   "id": "b97737b1",
   "metadata": {},
   "outputs": [
    {
     "ename": "ModuleNotFoundError",
     "evalue": "No module named 'qiskit.algorithms'",
     "output_type": "error",
     "traceback": [
      "\u001b[31m---------------------------------------------------------------------------\u001b[39m",
      "\u001b[31mModuleNotFoundError\u001b[39m                       Traceback (most recent call last)",
      "\u001b[36mCell\u001b[39m\u001b[36m \u001b[39m\u001b[32mIn[4]\u001b[39m\u001b[32m, line 2\u001b[39m\n\u001b[32m      1\u001b[39m \u001b[38;5;28;01mfrom\u001b[39;00m\u001b[38;5;250m \u001b[39m\u001b[34;01mqiskit\u001b[39;00m\u001b[38;5;250m \u001b[39m\u001b[38;5;28;01mimport\u001b[39;00m QuantumCircuit\n\u001b[32m----> \u001b[39m\u001b[32m2\u001b[39m \u001b[38;5;28;01mfrom\u001b[39;00m\u001b[38;5;250m \u001b[39m\u001b[34;01mqiskit\u001b[39;00m\u001b[34;01m.\u001b[39;00m\u001b[34;01malgorithms\u001b[39;00m\u001b[38;5;250m \u001b[39m\u001b[38;5;28;01mimport\u001b[39;00m Grover, AmplificationProblem\n\u001b[32m      3\u001b[39m \u001b[38;5;28;01mfrom\u001b[39;00m\u001b[38;5;250m \u001b[39m\u001b[34;01mqiskit\u001b[39;00m\u001b[34;01m.\u001b[39;00m\u001b[34;01mprimitives\u001b[39;00m\u001b[38;5;250m \u001b[39m\u001b[38;5;28;01mimport\u001b[39;00m Sampler\n",
      "\u001b[31mModuleNotFoundError\u001b[39m: No module named 'qiskit.algorithms'"
     ]
    }
   ],
   "source": [
    "\n",
    "from qiskit import QuantumCircuit\n",
    "from qiskit.algorithms import Grover, AmplificationProblem\n",
    "from qiskit.primitives import Sampler\n"
   ]
  },
  {
   "cell_type": "code",
   "execution_count": null,
   "id": "db6e6909",
   "metadata": {},
   "outputs": [],
   "source": [
    "# This code demonstrates the use of Grover's algorithm to find a marked state in a quantum circuit.\n",
    "good_state = ['11']"
   ]
  },
  {
   "cell_type": "code",
   "execution_count": null,
   "id": "f2016362",
   "metadata": {},
   "outputs": [],
   "source": [
    "\n",
    "# Define the oracle for the problem\n",
    "oracle = QuantumCircuit(2)\n",
    "oracle.cz(0, 1)"
   ]
  },
  {
   "cell_type": "code",
   "execution_count": null,
   "id": "558f691c",
   "metadata": {},
   "outputs": [],
   "source": [
    "# The oracle marks the state |11> as the good state\n",
    "problem = AmplificationProblem(oracle, is_good_state=good_state)\n",
    "problem.grover_operator.decompose().draw(output='mpl')"
   ]
  },
  {
   "cell_type": "code",
   "execution_count": null,
   "id": "0991a8e0",
   "metadata": {},
   "outputs": [],
   "source": [
    "# Create a Grover instance and run the amplification problem\n",
    "grover = Grover(sampler=Sampler())\n",
    "result = grover.amplify(problem)\n",
    "print('Result type:', type(result))\n",
    "print()\n",
    "print('Success!' if result.oracle_evaluation else 'Failure!')\n",
    "print('Top measurement:', result.top_measurement)\n"
   ]
  }
 ],
 "metadata": {
  "kernelspec": {
   "display_name": ".venv",
   "language": "python",
   "name": "python3"
  },
  "language_info": {
   "codemirror_mode": {
    "name": "ipython",
    "version": 3
   },
   "file_extension": ".py",
   "mimetype": "text/x-python",
   "name": "python",
   "nbconvert_exporter": "python",
   "pygments_lexer": "ipython3",
   "version": "3.13.5"
  }
 },
 "nbformat": 4,
 "nbformat_minor": 5
}
