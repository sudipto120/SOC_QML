{
 "cells": [
  {
   "cell_type": "code",
   "execution_count": 54,
   "id": "4590f7b4",
   "metadata": {},
   "outputs": [],
   "source": [
    "from qiskit import QuantumCircuit\n",
    "from qiskit_aer import AerSimulator\n"
   ]
  },
  {
   "cell_type": "code",
   "execution_count": 55,
   "id": "5ac3afc5",
   "metadata": {},
   "outputs": [],
   "source": [
    "def function_generator(case: int) -> QuantumCircuit:\n",
    "    \"\"\"Generate the Deutsch problem oracle circuit.\"\"\"\n",
    "    case = case % 4\n",
    "    f = QuantumCircuit(2)\n",
    "    if case in [1, 2]: f.cx(0, 1)\n",
    "    if case in [2, 3]: f.x(1)\n",
    "    return f"
   ]
  },
  {
   "cell_type": "code",
   "execution_count": 56,
   "id": "5a81bea7",
   "metadata": {},
   "outputs": [
    {
     "data": {
      "image/png": "[encoded data removed]",
      "text/plain": [
       "<Figure size 203.683x200.667 with 1 Axes>"
      ]
     },
     "metadata": {},
     "output_type": "display_data"
    }
   ],
   "source": [
    "display(function_generator(1).draw(output=\"mpl\"))"
   ]
  },
  {
   "cell_type": "code",
   "execution_count": 57,
   "id": "11ec2824",
   "metadata": {},
   "outputs": [],
   "source": [
    "def gen_circuit(oracle: QuantumCircuit) -> QuantumCircuit:\n",
    "    \"\"\"Compile the Deutsch algorithm circuit with the given oracle.\"\"\"\n",
    "    n = oracle.num_qubits - 1\n",
    "    qc = QuantumCircuit(n + 1, n)\n",
    "    qc.x(n)\n",
    "    qc.h(range(n + 1))\n",
    "    qc.barrier()\n",
    "    qc.compose(oracle, inplace=True)\n",
    "    qc.barrier()\n",
    "    qc.h(range(n))\n",
    "    qc.measure(range(n), range(n))\n",
    "    return qc"
   ]
  },
  {
   "cell_type": "code",
   "execution_count": 58,
   "id": "6f266bb2",
   "metadata": {},
   "outputs": [],
   "source": [
    "def deutsch_algorithm(case: int) -> str:\n",
    "    \"\"\"Run the Deutsch algorithm for the specified oracle case.\"\"\"\n",
    "    oracle = function_generator(case)\n",
    "    qc = gen_circuit(oracle)\n",
    "    simulator = AerSimulator()\n",
    "    result = simulator.run(qc, shots=1, memory=True).result()\n",
    "    measurement = result.get_memory()[0]\n",
    "    return \"constant\" if measurement == \"0\" else \"balanced\""
   ]
  },
  {
   "cell_type": "code",
   "execution_count": 59,
   "id": "eb5dffba",
   "metadata": {},
   "outputs": [
    {
     "name": "stdout",
     "output_type": "stream",
     "text": [
      "balanced\n"
     ]
    }
   ],
   "source": [
    "# Example usage:\n",
    "result = deutsch_algorithm(1)\n",
    "print(result)"
   ]
  }
 ],
 "metadata": {
  "kernelspec": {
   "display_name": ".venv",
   "language": "python",
   "name": "python3"
  },
  "language_info": {
   "codemirror_mode": {
    "name": "ipython",
    "version": 3
   },
   "file_extension": ".py",
   "mimetype": "text/x-python",
   "name": "python",
   "nbconvert_exporter": "python",
   "pygments_lexer": "ipython3",
   "version": "3.13.5"
  }
 },
 "nbformat": 4,
 "nbformat_minor": 5
}
